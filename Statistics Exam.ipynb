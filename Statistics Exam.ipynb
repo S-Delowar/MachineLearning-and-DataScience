{
 "cells": [
  {
   "cell_type": "code",
   "execution_count": 20,
   "id": "c6f1c711",
   "metadata": {},
   "outputs": [],
   "source": [
    "import pandas as pd\n",
    "import scipy"
   ]
  },
  {
   "cell_type": "code",
   "execution_count": 2,
   "id": "9c6fee4a",
   "metadata": {},
   "outputs": [],
   "source": [
    "df = pd.read_csv('Class test Data.csv')"
   ]
  },
  {
   "cell_type": "code",
   "execution_count": 3,
   "id": "e908663a",
   "metadata": {},
   "outputs": [
    {
     "data": {
      "text/html": [
       "<div>\n",
       "<style scoped>\n",
       "    .dataframe tbody tr th:only-of-type {\n",
       "        vertical-align: middle;\n",
       "    }\n",
       "\n",
       "    .dataframe tbody tr th {\n",
       "        vertical-align: top;\n",
       "    }\n",
       "\n",
       "    .dataframe thead th {\n",
       "        text-align: right;\n",
       "    }\n",
       "</style>\n",
       "<table border=\"1\" class=\"dataframe\">\n",
       "  <thead>\n",
       "    <tr style=\"text-align: right;\">\n",
       "      <th></th>\n",
       "      <th>age</th>\n",
       "      <th>trestbps</th>\n",
       "      <th>chol</th>\n",
       "      <th>thalach</th>\n",
       "      <th>oldpeak</th>\n",
       "    </tr>\n",
       "  </thead>\n",
       "  <tbody>\n",
       "    <tr>\n",
       "      <th>0</th>\n",
       "      <td>52</td>\n",
       "      <td>125</td>\n",
       "      <td>212</td>\n",
       "      <td>168</td>\n",
       "      <td>1.0</td>\n",
       "    </tr>\n",
       "    <tr>\n",
       "      <th>1</th>\n",
       "      <td>53</td>\n",
       "      <td>140</td>\n",
       "      <td>203</td>\n",
       "      <td>155</td>\n",
       "      <td>3.1</td>\n",
       "    </tr>\n",
       "    <tr>\n",
       "      <th>2</th>\n",
       "      <td>70</td>\n",
       "      <td>145</td>\n",
       "      <td>174</td>\n",
       "      <td>125</td>\n",
       "      <td>2.6</td>\n",
       "    </tr>\n",
       "    <tr>\n",
       "      <th>3</th>\n",
       "      <td>61</td>\n",
       "      <td>148</td>\n",
       "      <td>203</td>\n",
       "      <td>161</td>\n",
       "      <td>0.0</td>\n",
       "    </tr>\n",
       "    <tr>\n",
       "      <th>4</th>\n",
       "      <td>62</td>\n",
       "      <td>138</td>\n",
       "      <td>294</td>\n",
       "      <td>106</td>\n",
       "      <td>1.9</td>\n",
       "    </tr>\n",
       "    <tr>\n",
       "      <th>...</th>\n",
       "      <td>...</td>\n",
       "      <td>...</td>\n",
       "      <td>...</td>\n",
       "      <td>...</td>\n",
       "      <td>...</td>\n",
       "    </tr>\n",
       "    <tr>\n",
       "      <th>1020</th>\n",
       "      <td>59</td>\n",
       "      <td>140</td>\n",
       "      <td>221</td>\n",
       "      <td>164</td>\n",
       "      <td>0.0</td>\n",
       "    </tr>\n",
       "    <tr>\n",
       "      <th>1021</th>\n",
       "      <td>60</td>\n",
       "      <td>125</td>\n",
       "      <td>258</td>\n",
       "      <td>141</td>\n",
       "      <td>2.8</td>\n",
       "    </tr>\n",
       "    <tr>\n",
       "      <th>1022</th>\n",
       "      <td>47</td>\n",
       "      <td>110</td>\n",
       "      <td>275</td>\n",
       "      <td>118</td>\n",
       "      <td>1.0</td>\n",
       "    </tr>\n",
       "    <tr>\n",
       "      <th>1023</th>\n",
       "      <td>50</td>\n",
       "      <td>110</td>\n",
       "      <td>254</td>\n",
       "      <td>159</td>\n",
       "      <td>0.0</td>\n",
       "    </tr>\n",
       "    <tr>\n",
       "      <th>1024</th>\n",
       "      <td>54</td>\n",
       "      <td>120</td>\n",
       "      <td>188</td>\n",
       "      <td>113</td>\n",
       "      <td>1.4</td>\n",
       "    </tr>\n",
       "  </tbody>\n",
       "</table>\n",
       "<p>1025 rows × 5 columns</p>\n",
       "</div>"
      ],
      "text/plain": [
       "      age  trestbps  chol  thalach  oldpeak\n",
       "0      52       125   212      168      1.0\n",
       "1      53       140   203      155      3.1\n",
       "2      70       145   174      125      2.6\n",
       "3      61       148   203      161      0.0\n",
       "4      62       138   294      106      1.9\n",
       "...   ...       ...   ...      ...      ...\n",
       "1020   59       140   221      164      0.0\n",
       "1021   60       125   258      141      2.8\n",
       "1022   47       110   275      118      1.0\n",
       "1023   50       110   254      159      0.0\n",
       "1024   54       120   188      113      1.4\n",
       "\n",
       "[1025 rows x 5 columns]"
      ]
     },
     "execution_count": 3,
     "metadata": {},
     "output_type": "execute_result"
    }
   ],
   "source": [
    "df"
   ]
  },
  {
   "cell_type": "code",
   "execution_count": 4,
   "id": "1da2fc66",
   "metadata": {},
   "outputs": [
    {
     "data": {
      "text/plain": [
       "count    1025.000000\n",
       "mean      149.114146\n",
       "std        23.005724\n",
       "min        71.000000\n",
       "25%       132.000000\n",
       "50%       152.000000\n",
       "75%       166.000000\n",
       "max       202.000000\n",
       "Name: thalach, dtype: float64"
      ]
     },
     "execution_count": 4,
     "metadata": {},
     "output_type": "execute_result"
    }
   ],
   "source": [
    "df.thalach.describe()"
   ]
  },
  {
   "cell_type": "code",
   "execution_count": 8,
   "id": "c82db65a",
   "metadata": {},
   "outputs": [],
   "source": [
    "mode = df.thalach.mode()"
   ]
  },
  {
   "cell_type": "code",
   "execution_count": 9,
   "id": "4c801b2a",
   "metadata": {},
   "outputs": [
    {
     "data": {
      "text/plain": [
       "0    162\n",
       "Name: thalach, dtype: int64"
      ]
     },
     "execution_count": 9,
     "metadata": {},
     "output_type": "execute_result"
    }
   ],
   "source": [
    "mode"
   ]
  },
  {
   "cell_type": "code",
   "execution_count": 10,
   "id": "2373168f",
   "metadata": {},
   "outputs": [],
   "source": [
    "median = df.thalach.median()"
   ]
  },
  {
   "cell_type": "code",
   "execution_count": 11,
   "id": "df4c5841",
   "metadata": {},
   "outputs": [
    {
     "data": {
      "text/plain": [
       "152.0"
      ]
     },
     "execution_count": 11,
     "metadata": {},
     "output_type": "execute_result"
    }
   ],
   "source": [
    "median"
   ]
  },
  {
   "cell_type": "code",
   "execution_count": 12,
   "id": "59cab41e",
   "metadata": {},
   "outputs": [],
   "source": [
    "variance = df.thalach.var()"
   ]
  },
  {
   "cell_type": "code",
   "execution_count": 13,
   "id": "ba6d6297",
   "metadata": {},
   "outputs": [
    {
     "data": {
      "text/plain": [
       "529.263325076219"
      ]
     },
     "execution_count": 13,
     "metadata": {},
     "output_type": "execute_result"
    }
   ],
   "source": [
    "variance"
   ]
  },
  {
   "cell_type": "code",
   "execution_count": 15,
   "id": "c0a3d026",
   "metadata": {},
   "outputs": [],
   "source": [
    "kurtosis = df.thalach.kurtosis()"
   ]
  },
  {
   "cell_type": "code",
   "execution_count": 16,
   "id": "185eed07",
   "metadata": {},
   "outputs": [
    {
     "data": {
      "text/plain": [
       "-0.08882248803265647"
      ]
     },
     "execution_count": 16,
     "metadata": {},
     "output_type": "execute_result"
    }
   ],
   "source": [
    "kurtosis"
   ]
  },
  {
   "cell_type": "code",
   "execution_count": 17,
   "id": "10ac932f",
   "metadata": {},
   "outputs": [],
   "source": [
    "skewness = df.thalach.skew()"
   ]
  },
  {
   "cell_type": "code",
   "execution_count": 18,
   "id": "cb94fafc",
   "metadata": {},
   "outputs": [
    {
     "data": {
      "text/plain": [
       "-0.5137771771417209"
      ]
     },
     "execution_count": 18,
     "metadata": {},
     "output_type": "execute_result"
    }
   ],
   "source": [
    "skewness"
   ]
  },
  {
   "cell_type": "code",
   "execution_count": null,
   "id": "beb1611b",
   "metadata": {},
   "outputs": [],
   "source": []
  },
  {
   "cell_type": "code",
   "execution_count": 22,
   "id": "361e822b",
   "metadata": {},
   "outputs": [],
   "source": [
    "from scipy.stats import variation"
   ]
  },
  {
   "cell_type": "code",
   "execution_count": 23,
   "id": "ba6b5ab0",
   "metadata": {},
   "outputs": [],
   "source": [
    "#Cofficient of variation\n",
    "\n",
    "cof_var = variation(df.thalach)"
   ]
  },
  {
   "cell_type": "code",
   "execution_count": 24,
   "id": "476be4eb",
   "metadata": {},
   "outputs": [
    {
     "data": {
      "text/plain": [
       "0.15420735904272498"
      ]
     },
     "execution_count": 24,
     "metadata": {},
     "output_type": "execute_result"
    }
   ],
   "source": [
    "cof_var"
   ]
  },
  {
   "cell_type": "code",
   "execution_count": 25,
   "id": "94fdaa78",
   "metadata": {},
   "outputs": [],
   "source": [
    "# Germatric mean\n",
    "from scipy.stats import gmean"
   ]
  },
  {
   "cell_type": "code",
   "execution_count": 26,
   "id": "aaa41233",
   "metadata": {},
   "outputs": [],
   "source": [
    "gmean = gmean(df.thalach)"
   ]
  },
  {
   "cell_type": "code",
   "execution_count": 28,
   "id": "ef8e3ba8",
   "metadata": {},
   "outputs": [
    {
     "data": {
      "text/plain": [
       "147.18153768766382"
      ]
     },
     "execution_count": 28,
     "metadata": {},
     "output_type": "execute_result"
    }
   ],
   "source": [
    "gmean"
   ]
  },
  {
   "cell_type": "code",
   "execution_count": 30,
   "id": "a58315b3",
   "metadata": {},
   "outputs": [],
   "source": [
    "#Inter Quartile Range\n",
    "from scipy.stats import iqr\n",
    "\n",
    "iqr = iqr(df.thalach)"
   ]
  },
  {
   "cell_type": "code",
   "execution_count": 31,
   "id": "edb95bfd",
   "metadata": {},
   "outputs": [
    {
     "data": {
      "text/plain": [
       "34.0"
      ]
     },
     "execution_count": 31,
     "metadata": {},
     "output_type": "execute_result"
    }
   ],
   "source": [
    "iqr"
   ]
  },
  {
   "cell_type": "code",
   "execution_count": 32,
   "id": "fe721edb",
   "metadata": {},
   "outputs": [],
   "source": [
    "#Percentile\n",
    "import numpy as np"
   ]
  },
  {
   "cell_type": "code",
   "execution_count": 36,
   "id": "09648c9a",
   "metadata": {},
   "outputs": [],
   "source": [
    "percntle = np.percentile(df.thalach, 0.20)"
   ]
  },
  {
   "cell_type": "code",
   "execution_count": 37,
   "id": "8c61f0af",
   "metadata": {},
   "outputs": [
    {
     "data": {
      "text/plain": [
       "71.0"
      ]
     },
     "execution_count": 37,
     "metadata": {},
     "output_type": "execute_result"
    }
   ],
   "source": [
    "percntle"
   ]
  },
  {
   "cell_type": "code",
   "execution_count": null,
   "id": "4fe3d970",
   "metadata": {},
   "outputs": [],
   "source": [
    "#range\n"
   ]
  }
 ],
 "metadata": {
  "kernelspec": {
   "display_name": "Python 3 (ipykernel)",
   "language": "python",
   "name": "python3"
  },
  "language_info": {
   "codemirror_mode": {
    "name": "ipython",
    "version": 3
   },
   "file_extension": ".py",
   "mimetype": "text/x-python",
   "name": "python",
   "nbconvert_exporter": "python",
   "pygments_lexer": "ipython3",
   "version": "3.9.12"
  }
 },
 "nbformat": 4,
 "nbformat_minor": 5
}
